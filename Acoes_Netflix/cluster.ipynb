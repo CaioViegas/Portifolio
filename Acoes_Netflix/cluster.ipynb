{
 "cells": [
  {
   "cell_type": "code",
   "execution_count": 2,
   "metadata": {},
   "outputs": [],
   "source": [
    "import pandas as pd\n",
    "import matplotlib.pyplot as plt\n",
    "from sklearn.cluster import KMeans\n",
    "from sklearn.preprocessing import StandardScaler"
   ]
  },
  {
   "cell_type": "code",
   "execution_count": 3,
   "metadata": {},
   "outputs": [],
   "source": [
    "df = pd.read_csv(\"C:/Users/caioc/OneDrive/ProjetosData/Netflix/data/netflix_2014_2023.csv\")"
   ]
  },
  {
   "cell_type": "code",
   "execution_count": 4,
   "metadata": {},
   "outputs": [],
   "source": [
    "df['date'] = pd.to_datetime(df['date'])"
   ]
  },
  {
   "cell_type": "code",
   "execution_count": 5,
   "metadata": {},
   "outputs": [],
   "source": [
    "df['quarter'] = df['date'].dt.to_period('Q')"
   ]
  },
  {
   "cell_type": "code",
   "execution_count": 6,
   "metadata": {},
   "outputs": [],
   "source": [
    "media_trimestre = df.groupby('quarter')['close'].mean().reset_index()"
   ]
  },
  {
   "cell_type": "code",
   "execution_count": 7,
   "metadata": {},
   "outputs": [],
   "source": [
    "scaler = StandardScaler()\n",
    "scale_media = scaler.fit_transform(media_trimestre[['close']])"
   ]
  },
  {
   "cell_type": "code",
   "execution_count": 8,
   "metadata": {},
   "outputs": [],
   "source": [
    "kmeans = KMeans(n_clusters=4, random_state=101)"
   ]
  },
  {
   "cell_type": "code",
   "execution_count": 9,
   "metadata": {},
   "outputs": [],
   "source": [
    "media_trimestre['cluster_trimestre'] = kmeans.fit_predict(scale_media)"
   ]
  },
  {
   "cell_type": "code",
   "execution_count": 10,
   "metadata": {},
   "outputs": [
    {
     "name": "stdout",
     "output_type": "stream",
     "text": [
      "Médias Trimestrais de Fechamento e Clusters:\n",
      "   quarter       close  cluster_trimestre\n",
      "0   2014Q1   57.261335                  1\n",
      "1   2014Q2   54.112290                  1\n",
      "2   2014Q3   64.852589                  1\n",
      "3   2014Q4   53.690447                  1\n",
      "4   2015Q1   60.658946                  1\n",
      "5   2015Q2   83.682222                  1\n",
      "6   2015Q3  107.385848                  1\n",
      "7   2015Q4  114.263125                  1\n",
      "8   2016Q1   98.161476                  1\n",
      "9   2016Q2   96.067031                  1\n",
      "10  2016Q3   95.453281                  1\n",
      "11  2016Q4  118.515873                  1\n",
      "12  2017Q1  140.309517                  1\n",
      "13  2017Q2  153.835556                  1\n",
      "14  2017Q3  174.400317                  3\n",
      "15  2017Q4  192.553810                  3\n",
      "16  2018Q1  272.217869                  3\n",
      "17  2018Q2  340.896877                  0\n",
      "18  2018Q3  362.951427                  0\n",
      "19  2018Q4  299.257778                  0\n",
      "20  2019Q1  346.668853                  0\n",
      "21  2019Q2  360.782222                  0\n",
      "22  2019Q3  312.889529                  0\n",
      "23  2019Q4  296.481718                  0\n",
      "24  2020Q1  353.777258                  0\n",
      "25  2020Q2  425.617778                  0\n",
      "26  2020Q3  497.697814                  2\n",
      "27  2020Q4  506.976873                  2\n",
      "28  2021Q1  530.436068                  2\n",
      "29  2021Q2  511.163331                  2\n",
      "30  2021Q3  550.313280                  2\n",
      "31  2021Q4  638.920622                  2\n",
      "32  2022Q1  416.322905                  0\n",
      "33  2022Q2  221.702097                  3\n",
      "34  2022Q3  222.121563                  3\n",
      "35  2022Q4  280.493969                  3\n",
      "36  2023Q1  330.934033                  0\n",
      "37  2023Q2  368.320484                  0\n",
      "38  2023Q3  423.910317                  0\n",
      "39  2023Q4  436.537142                  0\n"
     ]
    }
   ],
   "source": [
    "print(\"Médias Trimestrais de Fechamento e Clusters:\")\n",
    "print(media_trimestre)"
   ]
  },
  {
   "cell_type": "markdown",
   "metadata": {},
   "source": [
    "Cluster 0: Trimestres com médias mais baixas.\n",
    "- 2018Q2, 2018Q3, 2018Q4, 2019Q1, 2019Q2, 2019Q3, 2019Q4, 2020Q1, 2020Q2, 2022Q1, 2023Q1, 2023Q2, 2023Q3, 2023Q4\n",
    "\n",
    "Cluster 1: Trimestres com médias moderadas.\n",
    "- 2014Q1, 2014Q2, 2014Q3, 2014Q4, 2015Q1, 2015Q2, 2015Q3, 2015Q4, 2016Q1, 2016Q2, 2016Q3, 2016Q4, 2017Q1, 2017Q2\n",
    "\n",
    "Cluster 2: Trimestres com médias altas.\n",
    "- 2020Q3, 2020Q4, 2021Q1, 2021Q2, 2021Q3, 2021Q4\n",
    "\n",
    "Cluster 3: Trimestres com médias muito altas.\n",
    "- 2017Q3, 2017Q4, 2018Q1, 2022Q2, 2022Q3, 2022Q4"
   ]
  },
  {
   "cell_type": "code",
   "execution_count": 11,
   "metadata": {},
   "outputs": [],
   "source": [
    "stats_cluster = media_trimestre.groupby('cluster_trimestre')['close'].describe()"
   ]
  },
  {
   "cell_type": "code",
   "execution_count": 12,
   "metadata": {},
   "outputs": [
    {
     "name": "stdout",
     "output_type": "stream",
     "text": [
      "\n",
      "Estatísticas Descritivas dos Clusters:\n",
      "                   count        mean        std         min         25%  \\\n",
      "cluster_trimestre                                                         \n",
      "0                   14.0  362.524880  47.051131  296.481718  333.424744   \n",
      "1                   14.0   92.732110  32.284955   53.690447   61.707357   \n",
      "2                    6.0  539.251331  52.328414  497.697814  508.023488   \n",
      "3                    6.0  227.248271  42.216168  174.400317  199.840881   \n",
      "\n",
      "                          50%         75%         max  \n",
      "cluster_trimestre                                      \n",
      "0                  357.279740  404.322299  436.537142  \n",
      "1                   95.760156  112.543806  153.835556  \n",
      "2                  520.799699  545.343977  638.920622  \n",
      "3                  221.911830  259.693793  280.493969  \n"
     ]
    }
   ],
   "source": [
    "print(\"\\nEstatísticas Descritivas dos Clusters:\")\n",
    "print(stats_cluster)"
   ]
  }
 ],
 "metadata": {
  "kernelspec": {
   "display_name": "Python 3",
   "language": "python",
   "name": "python3"
  },
  "language_info": {
   "codemirror_mode": {
    "name": "ipython",
    "version": 3
   },
   "file_extension": ".py",
   "mimetype": "text/x-python",
   "name": "python",
   "nbconvert_exporter": "python",
   "pygments_lexer": "ipython3",
   "version": "3.12.1"
  }
 },
 "nbformat": 4,
 "nbformat_minor": 2
}
